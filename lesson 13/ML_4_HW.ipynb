{
 "cells": [
  {
   "cell_type": "markdown",
   "metadata": {
    "toc": true
   },
   "source": [
    "<h1>Содержание<span class=\"tocSkip\"></span></h1>\n",
    "<div class=\"toc\"><ul class=\"toc-item\"></ul></div>"
   ]
  },
  {
   "cell_type": "code",
   "execution_count": 6,
   "metadata": {},
   "outputs": [],
   "source": [
    "from sklearn.ensemble import RandomForestClassifier, BaggingClassifier\n",
    "from sklearn.tree import DecisionTreeClassifier\n",
    "from sklearn.model_selection import train_test_split\n",
    "import pandas as pd\n",
    "import numpy as np\n",
    "RS = 42"
   ]
  },
  {
   "cell_type": "markdown",
   "metadata": {},
   "source": [
    "https://archive.ics.uci.edu/ml/datasets/wine+quality"
   ]
  },
  {
   "cell_type": "code",
   "execution_count": 7,
   "metadata": {},
   "outputs": [],
   "source": [
    "link = 'https://archive.ics.uci.edu/ml/machine-learning-databases/wine-quality/winequality-red.csv'\n",
    "data = pd.read_csv(link, delimiter=';')"
   ]
  },
  {
   "cell_type": "markdown",
   "metadata": {},
   "source": [
    "1.Оцените качество по метрике accuracy для классификаторов:\n",
    "\n",
    "DecisionTreeClassifier\n",
    "\n",
    "BaggingClassifier со 100 деревьями\n",
    "\n",
    "RandomForestClassifier со 100 деревьями\n",
    "\n",
    "Сравните результаты и напишите какой вывод можно сделать."
   ]
  },
  {
   "cell_type": "code",
   "execution_count": 8,
   "metadata": {},
   "outputs": [
    {
     "data": {
      "text/html": [
       "<div>\n",
       "<style scoped>\n",
       "    .dataframe tbody tr th:only-of-type {\n",
       "        vertical-align: middle;\n",
       "    }\n",
       "\n",
       "    .dataframe tbody tr th {\n",
       "        vertical-align: top;\n",
       "    }\n",
       "\n",
       "    .dataframe thead th {\n",
       "        text-align: right;\n",
       "    }\n",
       "</style>\n",
       "<table border=\"1\" class=\"dataframe\">\n",
       "  <thead>\n",
       "    <tr style=\"text-align: right;\">\n",
       "      <th></th>\n",
       "      <th>accuracy</th>\n",
       "    </tr>\n",
       "  </thead>\n",
       "  <tbody>\n",
       "    <tr>\n",
       "      <th>Random Forest Classifier</th>\n",
       "      <td>0.654167</td>\n",
       "    </tr>\n",
       "    <tr>\n",
       "      <th>Bagging Classifier</th>\n",
       "      <td>0.641667</td>\n",
       "    </tr>\n",
       "    <tr>\n",
       "      <th>Decision Tree Classifier</th>\n",
       "      <td>0.572917</td>\n",
       "    </tr>\n",
       "  </tbody>\n",
       "</table>\n",
       "</div>"
      ],
      "text/plain": [
       "                          accuracy\n",
       "Random Forest Classifier  0.654167\n",
       "Bagging Classifier        0.641667\n",
       "Decision Tree Classifier  0.572917"
      ]
     },
     "execution_count": 8,
     "metadata": {},
     "output_type": "execute_result"
    }
   ],
   "source": [
    "clfs = {\n",
    "    'Random Forest Classifier': RandomForestClassifier(n_estimators=100, random_state=RS),\n",
    "    'Bagging Classifier': BaggingClassifier(n_estimators=100, random_state=RS),\n",
    "    'Decision Tree Classifier': DecisionTreeClassifier(random_state=RS)\n",
    "}\n",
    "\n",
    "x = data.loc[:,:'alcohol']\n",
    "y = data['quality']\n",
    "x_train, x_test, y_train, y_test = train_test_split(x, y, random_state=RS, test_size=0.3)\n",
    "results = {}\n",
    "for clf_name, clf in clfs.items():\n",
    "    model = clf.fit(x_train, y_train)\n",
    "    results[clf_name] = model.score(x_test, y_test)\n",
    "pd.DataFrame.from_dict(results, orient='index', columns=['accuracy'])"
   ]
  },
  {
   "cell_type": "markdown",
   "metadata": {},
   "source": [
    "Ансамбль моделей дает лучшую точность чем одно дерево решений"
   ]
  },
  {
   "cell_type": "markdown",
   "metadata": {},
   "source": [
    "2.Разделите выборку на обучающую и тестовую в отношении 70%/30%"
   ]
  },
  {
   "cell_type": "code",
   "execution_count": 9,
   "metadata": {},
   "outputs": [],
   "source": [
    "x_train, x_test, y_train, y_test = train_test_split(x, y, test_size=0.3)"
   ]
  },
  {
   "cell_type": "markdown",
   "metadata": {},
   "source": [
    "3.Посчитайте качество на тестовой выборке по метрике accuracy для классификатора RandomForestClassifier, используя значения деревьев:\n",
    "    \n",
    "10, 50, 100, 200, далее с шагом 200 до 5000 деревьев.\n",
    "Постройте график зависимости качества от числа деревьев.\n",
    "\n"
   ]
  },
  {
   "cell_type": "code",
   "execution_count": 10,
   "metadata": {},
   "outputs": [
    {
     "data": {
      "text/html": [
       "<div>\n",
       "<style scoped>\n",
       "    .dataframe tbody tr th:only-of-type {\n",
       "        vertical-align: middle;\n",
       "    }\n",
       "\n",
       "    .dataframe tbody tr th {\n",
       "        vertical-align: top;\n",
       "    }\n",
       "\n",
       "    .dataframe thead th {\n",
       "        text-align: right;\n",
       "    }\n",
       "</style>\n",
       "<table border=\"1\" class=\"dataframe\">\n",
       "  <thead>\n",
       "    <tr style=\"text-align: right;\">\n",
       "      <th></th>\n",
       "      <th>accuracy</th>\n",
       "    </tr>\n",
       "  </thead>\n",
       "  <tbody>\n",
       "    <tr>\n",
       "      <th>10</th>\n",
       "      <td>0.658333</td>\n",
       "    </tr>\n",
       "    <tr>\n",
       "      <th>50</th>\n",
       "      <td>0.697917</td>\n",
       "    </tr>\n",
       "    <tr>\n",
       "      <th>100</th>\n",
       "      <td>0.706250</td>\n",
       "    </tr>\n",
       "    <tr>\n",
       "      <th>200</th>\n",
       "      <td>0.695833</td>\n",
       "    </tr>\n",
       "    <tr>\n",
       "      <th>400</th>\n",
       "      <td>0.700000</td>\n",
       "    </tr>\n",
       "    <tr>\n",
       "      <th>600</th>\n",
       "      <td>0.697917</td>\n",
       "    </tr>\n",
       "    <tr>\n",
       "      <th>800</th>\n",
       "      <td>0.714583</td>\n",
       "    </tr>\n",
       "    <tr>\n",
       "      <th>1000</th>\n",
       "      <td>0.710417</td>\n",
       "    </tr>\n",
       "    <tr>\n",
       "      <th>1200</th>\n",
       "      <td>0.708333</td>\n",
       "    </tr>\n",
       "    <tr>\n",
       "      <th>1400</th>\n",
       "      <td>0.706250</td>\n",
       "    </tr>\n",
       "    <tr>\n",
       "      <th>1600</th>\n",
       "      <td>0.708333</td>\n",
       "    </tr>\n",
       "    <tr>\n",
       "      <th>1800</th>\n",
       "      <td>0.706250</td>\n",
       "    </tr>\n",
       "    <tr>\n",
       "      <th>2000</th>\n",
       "      <td>0.710417</td>\n",
       "    </tr>\n",
       "    <tr>\n",
       "      <th>2200</th>\n",
       "      <td>0.710417</td>\n",
       "    </tr>\n",
       "    <tr>\n",
       "      <th>2400</th>\n",
       "      <td>0.706250</td>\n",
       "    </tr>\n",
       "    <tr>\n",
       "      <th>2600</th>\n",
       "      <td>0.708333</td>\n",
       "    </tr>\n",
       "    <tr>\n",
       "      <th>2800</th>\n",
       "      <td>0.706250</td>\n",
       "    </tr>\n",
       "    <tr>\n",
       "      <th>3000</th>\n",
       "      <td>0.706250</td>\n",
       "    </tr>\n",
       "    <tr>\n",
       "      <th>3200</th>\n",
       "      <td>0.706250</td>\n",
       "    </tr>\n",
       "    <tr>\n",
       "      <th>3400</th>\n",
       "      <td>0.704167</td>\n",
       "    </tr>\n",
       "    <tr>\n",
       "      <th>3600</th>\n",
       "      <td>0.706250</td>\n",
       "    </tr>\n",
       "    <tr>\n",
       "      <th>3800</th>\n",
       "      <td>0.706250</td>\n",
       "    </tr>\n",
       "    <tr>\n",
       "      <th>4000</th>\n",
       "      <td>0.706250</td>\n",
       "    </tr>\n",
       "    <tr>\n",
       "      <th>4200</th>\n",
       "      <td>0.706250</td>\n",
       "    </tr>\n",
       "    <tr>\n",
       "      <th>4400</th>\n",
       "      <td>0.704167</td>\n",
       "    </tr>\n",
       "    <tr>\n",
       "      <th>4600</th>\n",
       "      <td>0.706250</td>\n",
       "    </tr>\n",
       "    <tr>\n",
       "      <th>4800</th>\n",
       "      <td>0.704167</td>\n",
       "    </tr>\n",
       "    <tr>\n",
       "      <th>5000</th>\n",
       "      <td>0.706250</td>\n",
       "    </tr>\n",
       "  </tbody>\n",
       "</table>\n",
       "</div>"
      ],
      "text/plain": [
       "      accuracy\n",
       "10    0.658333\n",
       "50    0.697917\n",
       "100   0.706250\n",
       "200   0.695833\n",
       "400   0.700000\n",
       "600   0.697917\n",
       "800   0.714583\n",
       "1000  0.710417\n",
       "1200  0.708333\n",
       "1400  0.706250\n",
       "1600  0.708333\n",
       "1800  0.706250\n",
       "2000  0.710417\n",
       "2200  0.710417\n",
       "2400  0.706250\n",
       "2600  0.708333\n",
       "2800  0.706250\n",
       "3000  0.706250\n",
       "3200  0.706250\n",
       "3400  0.704167\n",
       "3600  0.706250\n",
       "3800  0.706250\n",
       "4000  0.706250\n",
       "4200  0.706250\n",
       "4400  0.704167\n",
       "4600  0.706250\n",
       "4800  0.704167\n",
       "5000  0.706250"
      ]
     },
     "execution_count": 10,
     "metadata": {},
     "output_type": "execute_result"
    }
   ],
   "source": [
    "from sklearn.metrics import accuracy_score\n",
    "estim_cnt = [10, 50, 100] + [x for x in range(200, 5001, 200)]\n",
    "results = {}\n",
    "for x in estim_cnt:\n",
    "    model = RandomForestClassifier(n_estimators=x, random_state=RS, n_jobs=-1).fit(x_train, y_train)\n",
    "    y_pred = model.predict(x_test)\n",
    "    results[x] = accuracy_score(y_test, y_pred)\n",
    "pd.DataFrame.from_dict(results, orient='index', columns=['accuracy'])"
   ]
  },
  {
   "cell_type": "code",
   "execution_count": 11,
   "metadata": {},
   "outputs": [
    {
     "data": {
      "image/png": "[encoded data removed]",
      "text/plain": [
       "<Figure size 432x288 with 1 Axes>"
      ]
     },
     "metadata": {
      "needs_background": "light"
     },
     "output_type": "display_data"
    }
   ],
   "source": [
    "from matplotlib import pyplot as plt\n",
    "plt.plot(results.keys(),results.values())\n",
    "plt.show()"
   ]
  },
  {
   "cell_type": "markdown",
   "metadata": {},
   "source": [
    "4.Обучите реализации градиентного бустинга с параметрами по умолчанию из библиотек sklearn и xgboost. Сравните значение метрики accuracy по cross_val_score"
   ]
  },
  {
   "cell_type": "code",
   "execution_count": 12,
   "metadata": {},
   "outputs": [
    {
     "name": "stderr",
     "output_type": "stream",
     "text": [
      "C:\\ProgramData\\Anaconda3\\lib\\site-packages\\xgboost\\sklearn.py:1146: UserWarning: The use of label encoder in XGBClassifier is deprecated and will be removed in a future release. To remove this warning, do the following: 1) Pass option use_label_encoder=False when constructing XGBClassifier object; and 2) Encode your labels (y) as integers starting with 0, i.e. 0, 1, 2, ..., [num_class - 1].\n",
      "  warnings.warn(label_encoder_deprecation_msg, UserWarning)\n"
     ]
    },
    {
     "name": "stdout",
     "output_type": "stream",
     "text": [
      "[00:20:46] WARNING: C:/Users/Administrator/workspace/xgboost-win64_release_1.4.0/src/learner.cc:1095: Starting in XGBoost 1.3.0, the default evaluation metric used with the objective 'multi:softprob' was changed from 'merror' to 'mlogloss'. Explicitly set eval_metric if you'd like to restore the old behavior.\n"
     ]
    },
    {
     "name": "stderr",
     "output_type": "stream",
     "text": [
      "C:\\ProgramData\\Anaconda3\\lib\\site-packages\\xgboost\\sklearn.py:1146: UserWarning: The use of label encoder in XGBClassifier is deprecated and will be removed in a future release. To remove this warning, do the following: 1) Pass option use_label_encoder=False when constructing XGBClassifier object; and 2) Encode your labels (y) as integers starting with 0, i.e. 0, 1, 2, ..., [num_class - 1].\n",
      "  warnings.warn(label_encoder_deprecation_msg, UserWarning)\n"
     ]
    },
    {
     "name": "stdout",
     "output_type": "stream",
     "text": [
      "[00:20:47] WARNING: C:/Users/Administrator/workspace/xgboost-win64_release_1.4.0/src/learner.cc:1095: Starting in XGBoost 1.3.0, the default evaluation metric used with the objective 'multi:softprob' was changed from 'merror' to 'mlogloss'. Explicitly set eval_metric if you'd like to restore the old behavior.\n"
     ]
    },
    {
     "name": "stderr",
     "output_type": "stream",
     "text": [
      "C:\\ProgramData\\Anaconda3\\lib\\site-packages\\xgboost\\sklearn.py:1146: UserWarning: The use of label encoder in XGBClassifier is deprecated and will be removed in a future release. To remove this warning, do the following: 1) Pass option use_label_encoder=False when constructing XGBClassifier object; and 2) Encode your labels (y) as integers starting with 0, i.e. 0, 1, 2, ..., [num_class - 1].\n",
      "  warnings.warn(label_encoder_deprecation_msg, UserWarning)\n"
     ]
    },
    {
     "name": "stdout",
     "output_type": "stream",
     "text": [
      "[00:20:47] WARNING: C:/Users/Administrator/workspace/xgboost-win64_release_1.4.0/src/learner.cc:1095: Starting in XGBoost 1.3.0, the default evaluation metric used with the objective 'multi:softprob' was changed from 'merror' to 'mlogloss'. Explicitly set eval_metric if you'd like to restore the old behavior.\n"
     ]
    },
    {
     "name": "stderr",
     "output_type": "stream",
     "text": [
      "C:\\ProgramData\\Anaconda3\\lib\\site-packages\\xgboost\\sklearn.py:1146: UserWarning: The use of label encoder in XGBClassifier is deprecated and will be removed in a future release. To remove this warning, do the following: 1) Pass option use_label_encoder=False when constructing XGBClassifier object; and 2) Encode your labels (y) as integers starting with 0, i.e. 0, 1, 2, ..., [num_class - 1].\n",
      "  warnings.warn(label_encoder_deprecation_msg, UserWarning)\n"
     ]
    },
    {
     "name": "stdout",
     "output_type": "stream",
     "text": [
      "[00:20:47] WARNING: C:/Users/Administrator/workspace/xgboost-win64_release_1.4.0/src/learner.cc:1095: Starting in XGBoost 1.3.0, the default evaluation metric used with the objective 'multi:softprob' was changed from 'merror' to 'mlogloss'. Explicitly set eval_metric if you'd like to restore the old behavior.\n"
     ]
    },
    {
     "data": {
      "text/html": [
       "<div>\n",
       "<style scoped>\n",
       "    .dataframe tbody tr th:only-of-type {\n",
       "        vertical-align: middle;\n",
       "    }\n",
       "\n",
       "    .dataframe tbody tr th {\n",
       "        vertical-align: top;\n",
       "    }\n",
       "\n",
       "    .dataframe thead th {\n",
       "        text-align: right;\n",
       "    }\n",
       "</style>\n",
       "<table border=\"1\" class=\"dataframe\">\n",
       "  <thead>\n",
       "    <tr style=\"text-align: right;\">\n",
       "      <th></th>\n",
       "      <th>accuracy</th>\n",
       "    </tr>\n",
       "  </thead>\n",
       "  <tbody>\n",
       "    <tr>\n",
       "      <th>Gradient Boosting Classifier</th>\n",
       "      <td>0.56875</td>\n",
       "    </tr>\n",
       "    <tr>\n",
       "      <th>XGB Classifier</th>\n",
       "      <td>0.58750</td>\n",
       "    </tr>\n",
       "  </tbody>\n",
       "</table>\n",
       "</div>"
      ],
      "text/plain": [
       "                              accuracy\n",
       "Gradient Boosting Classifier   0.56875\n",
       "XGB Classifier                 0.58750"
      ]
     },
     "execution_count": 12,
     "metadata": {},
     "output_type": "execute_result"
    }
   ],
   "source": [
    "from sklearn.ensemble import GradientBoostingClassifier as GBC\n",
    "from xgboost import XGBClassifier as XGB\n",
    "from sklearn.model_selection import cross_val_score\n",
    "clfs = {\n",
    "    'Gradient Boosting Classifier': GBC(random_state=RS),\n",
    "    'XGB Classifier': XGB(random_state=RS)\n",
    "}\n",
    "results = {}\n",
    "for clf_name, clf in clfs.items():\n",
    "    clf.fit(x_train, y_train)\n",
    "    results[clf_name] = np.mean(cross_val_score(clf, x_test, y_test, scoring=\"accuracy\",cv=3))\n",
    "pd.DataFrame.from_dict(results, orient='index', columns=['accuracy'])"
   ]
  },
  {
   "cell_type": "markdown",
   "metadata": {},
   "source": [
    "5.Подберите оптимальные параметры этих алгоритмов с помощью GridSearchCV(cv=3).\n",
    "Параметры для оптимизации:\n",
    "\n",
    "оптимизируемый функционал\n",
    "\n",
    "скорость обучения\n",
    "\n",
    "количество деревьев\n",
    "\n",
    "глубина деревьев\n",
    "\n",
    "Сравните значение метрики accuracy и скорость работы. Выведите лучшие параметры алгоритмов."
   ]
  },
  {
   "cell_type": "code",
   "execution_count": 13,
   "metadata": {
    "scrolled": false
   },
   "outputs": [
    {
     "name": "stdout",
     "output_type": "stream",
     "text": [
      "Gradient Boosting Classifier GridSearchCV best params: {'learning_rate': 0.2, 'max_depth': 7, 'n_estimators': 6}\n",
      "Accuracy: 0.6083333333333333\n",
      "Searching time: 0:00:06.977659\n"
     ]
    },
    {
     "name": "stderr",
     "output_type": "stream",
     "text": [
      "C:\\ProgramData\\Anaconda3\\lib\\site-packages\\xgboost\\sklearn.py:1146: UserWarning: The use of label encoder in XGBClassifier is deprecated and will be removed in a future release. To remove this warning, do the following: 1) Pass option use_label_encoder=False when constructing XGBClassifier object; and 2) Encode your labels (y) as integers starting with 0, i.e. 0, 1, 2, ..., [num_class - 1].\n",
      "  warnings.warn(label_encoder_deprecation_msg, UserWarning)\n"
     ]
    },
    {
     "name": "stdout",
     "output_type": "stream",
     "text": [
      "XGB Classifier GridSearchCV best params: {'learning_rate': 0.25, 'max_depth': 9, 'n_estimators': 29}\n",
      "Accuracy: 0.66875\n",
      "Searching time: 0:00:19.331974\n"
     ]
    }
   ],
   "source": [
    "from sklearn.model_selection import GridSearchCV\n",
    "from datetime import datetime\n",
    "params_gbc = {\n",
    "    'learning_rate': [0.2, 0.25, 0.3],\n",
    "    'n_estimators': [5, 6, 7],\n",
    "    'max_depth': [6, 7, 8]\n",
    "}\n",
    "params_xgb = {\n",
    "    'learning_rate': [0.24, 0.25, 0.3, 0.35, 0.4],\n",
    "    'n_estimators': [24, 26, 29, 32],\n",
    "    'max_depth': [8, 9, 11]\n",
    "}\n",
    "clfs = [\n",
    "    ('Gradient Boosting Classifier', GBC(criterion='squared_error', random_state=RS), params_gbc),\n",
    "    ('XGB Classifier', XGB(colsample_bytree=0.3456, eval_metric='mlogloss', min_child_weight=1, random_state=RS, subsample=0.861, tree_method='hist'), params_xgb)\n",
    "]\n",
    "for clf_name, clf, params in clfs:\n",
    "    start_time = datetime.now()\n",
    "    grid = GridSearchCV(clf, params, scoring='accuracy', n_jobs=-1, cv=3)\n",
    "    fit_model = grid.fit(x_train, y_train)\n",
    "    print(clf_name, \"GridSearchCV best params:\", grid.best_params_)\n",
    "    print(\"Accuracy:\", fit_model.score(x_test, y_test))\n",
    "    print('Searching time: {}'.format(datetime.now() - start_time))"
   ]
  },
  {
   "cell_type": "markdown",
   "metadata": {},
   "source": [
    "1. Gradient Boosting Classifier GridSearchCV best params: \n",
    "- 'criterion': 'squared_error'\n",
    "- 'learning_rate': 0.2\n",
    "- 'max_depth': 7\n",
    "- 'n_estimators': 6  \n",
    "Accuracy: 0.6083333333333333  \n",
    "Searching time: 0:00:06.977659\n",
    "\n",
    "2. XGB Classifier GridSearchCV best params:\n",
    "- 'learning_rate': 0.25\n",
    "- 'max_depth': 9\n",
    "- 'n_estimators': 29  \n",
    "Accuracy: 0.66875  \n",
    "Searching time: 0:00:19.331974"
   ]
  },
  {
   "cell_type": "markdown",
   "metadata": {},
   "source": [
    "6.Обучите реализации градиентного бустинга с параметрами по умолчанию из библиотек lightgbm и catboost. Сравните значение метрики accuracy по cross_val_score по всем четырем реализациям."
   ]
  },
  {
   "cell_type": "code",
   "execution_count": 14,
   "metadata": {},
   "outputs": [],
   "source": [
    "from lightgbm import LGBMClassifier\n",
    "from catboost import CatBoostClassifier"
   ]
  },
  {
   "cell_type": "code",
   "execution_count": 15,
   "metadata": {},
   "outputs": [
    {
     "data": {
      "text/html": [
       "<div>\n",
       "<style scoped>\n",
       "    .dataframe tbody tr th:only-of-type {\n",
       "        vertical-align: middle;\n",
       "    }\n",
       "\n",
       "    .dataframe tbody tr th {\n",
       "        vertical-align: top;\n",
       "    }\n",
       "\n",
       "    .dataframe thead th {\n",
       "        text-align: right;\n",
       "    }\n",
       "</style>\n",
       "<table border=\"1\" class=\"dataframe\">\n",
       "  <thead>\n",
       "    <tr style=\"text-align: right;\">\n",
       "      <th></th>\n",
       "      <th>accuracy</th>\n",
       "    </tr>\n",
       "  </thead>\n",
       "  <tbody>\n",
       "    <tr>\n",
       "      <th>Light GBM Classifier</th>\n",
       "      <td>0.579167</td>\n",
       "    </tr>\n",
       "    <tr>\n",
       "      <th>CatBoost Classifier</th>\n",
       "      <td>0.610417</td>\n",
       "    </tr>\n",
       "  </tbody>\n",
       "</table>\n",
       "</div>"
      ],
      "text/plain": [
       "                      accuracy\n",
       "Light GBM Classifier  0.579167\n",
       "CatBoost Classifier   0.610417"
      ]
     },
     "execution_count": 15,
     "metadata": {},
     "output_type": "execute_result"
    }
   ],
   "source": [
    "\n",
    "clfs = {\n",
    "    'Light GBM Classifier': LGBMClassifier(random_state=RS),\n",
    "    'CatBoost Classifier': CatBoostClassifier(random_state=RS, verbose=False)\n",
    "}\n",
    "results = {}\n",
    "for clf_name, clf in clfs.items():\n",
    "    clf.fit(x_train, y_train)\n",
    "    results[clf_name] = np.mean(cross_val_score(clf, x_test, y_test, scoring=\"accuracy\",cv=3))\n",
    "pd.DataFrame.from_dict(results, orient='index', columns=['accuracy'])"
   ]
  },
  {
   "cell_type": "markdown",
   "metadata": {},
   "source": [
    "Алгоритмы без подбора параметров дают следующие результаты:\n",
    "- Gradient Boosting Classifier 0.56875\n",
    "- XGB Classifier 0.58750\n",
    "- Light GBM Classifier 0.579167\n",
    "- CatBoost Classifier 0.610417"
   ]
  },
  {
   "cell_type": "markdown",
   "metadata": {},
   "source": [
    "7.Подберите оптимальные параметры для алгоритмов градиентного бустинга из библиотек lightgbm и catboost с теми же условиями. Выведите лучшие параметры алгоритмов.\n",
    "Сравните значение метрики accuracy и скорость по этим четырем реализациям."
   ]
  },
  {
   "cell_type": "code",
   "execution_count": 16,
   "metadata": {},
   "outputs": [
    {
     "name": "stdout",
     "output_type": "stream",
     "text": [
      "Light GBM Classifier GridSearchCV best params: {'learning_rate': 0.2, 'max_depth': 7, 'n_estimators': 100} \n",
      "Accuracy: 0.6583333333333333\n",
      "Searching time: 0:02:05.220104\n",
      "CatBoost Classifier GridSearchCV best params: {'learning_rate': 0.05, 'max_depth': 8, 'n_estimators': 200} \n",
      "Accuracy: 0.6541666666666667\n",
      "Searching time: 0:02:59.940308\n"
     ]
    }
   ],
   "source": [
    "params_lgbm = {\n",
    "    'learning_rate': [0.15, 0.2, 0.25],\n",
    "    'n_estimators': [100, 150, 200, 250, 300, 350, 400],\n",
    "    'max_depth': [4, 5, 6, 7, 8, 9]\n",
    "}\n",
    "params_cat = {\n",
    "    'learning_rate': [0.05, 0.1, 0.15],\n",
    "    'n_estimators': [200],\n",
    "    'max_depth': [8, 9, 10]\n",
    "}\n",
    "clfs = [\n",
    "    ('Light GBM Classifier', LGBMClassifier(random_state=RS), params_lgbm),\n",
    "    ('CatBoost Classifier', CatBoostClassifier(random_state=RS, verbose=False), params_cat)\n",
    "]\n",
    "for clf_name, clf, params in clfs:\n",
    "    start_time = datetime.now()\n",
    "    grid = GridSearchCV(clf, params, scoring='accuracy', cv=3, n_jobs=-1)\n",
    "    fit_model = grid.fit(x_train, y_train)\n",
    "    print(clf_name, \"GridSearchCV best params:\",\n",
    "          grid.best_params_,\"\\nAccuracy:\", fit_model.score(x_test, y_test))\n",
    "    print('Searching time: {}'.format(datetime.now() - start_time))"
   ]
  },
  {
   "cell_type": "markdown",
   "metadata": {},
   "source": [
    "3. Light GBM Classifier GridSearchCV best params: \n",
    "- 'learning_rate': 0.2\n",
    "- 'max_depth': 7\n",
    "- 'n_estimators': 100  \n",
    "Accuracy: 0.6583333333333333  \n",
    "Searching time: 0:02:05.220104\n",
    "\n",
    "4. CatBoost Classifier GridSearchCV best params: \n",
    "- 'learning_rate': 0.05\n",
    "- 'max_depth': 8\n",
    "- 'n_estimators': 200  \n",
    "Accuracy: 0.6541666666666667  \n",
    "Searching time: 0:02:59.940308\n",
    "\n",
    "Алгоритмы с подбором параметров дают следующие результаты:\n",
    "- Gradient Boosting Classifier 0.6083333333333333, Searching time: 0:00:06.977659\n",
    "- XGB Classifier 0.66875, Searching time: 0:00:19.331974\n",
    "- Light GBM Classifier 0.6583333333333333, Searching time: 0:02:05.220104\n",
    "- CatBoost Classifier 0.6541666666666667, Searching time: 0:02:59.940308"
   ]
  },
  {
   "cell_type": "markdown",
   "metadata": {},
   "source": [
    "8.Подберите оптимальные параметры алгоритма из библиотеки xgbost с помощью [hyperopt](https://github.com/hyperopt/hyperopt) . Параметры для оптимизации:\n",
    "\n",
    "оптимизируемый функционал\n",
    "\n",
    "скорость обучения\n",
    "\n",
    "количество деревьев\n",
    "\n",
    "глубина деревьев\n",
    "\n",
    "Сравните результат с поиском по сетке из sklearn. Выведите лучшие параметры алгоритма, найденные даным способом."
   ]
  },
  {
   "cell_type": "code",
   "execution_count": 17,
   "metadata": {},
   "outputs": [
    {
     "name": "stdout",
     "output_type": "stream",
     "text": [
      "100%|███████████████████████████████████████████████████████| 1000/1000 [06:07<00:00,  2.72trial/s, best loss: 0.30625]\n",
      "{'learning_rate': 0.8046208103484133, 'max_depth': 2}\n"
     ]
    }
   ],
   "source": [
    "from hyperopt import hp, fmin, tpe, STATUS_OK, STATUS_FAIL, Trials\n",
    "xgb_reg_params = {\n",
    "    'learning_rate':    hp.uniform('learning_rate', 0.05, 1),\n",
    "    'max_depth':        hp.choice('max_depth',        np.arange(5, 100, 1, dtype=int)),\n",
    "    'n_estimators':     26,\n",
    "    'min_child_weight': 1,\n",
    "    'colsample_bytree': 0.3456,\n",
    "    'subsample':        0.861,\n",
    "    'tree_method':      'hist',\n",
    "    'random_state': RS\n",
    "}\n",
    "xgb_fit_params = {\n",
    "    'eval_metric': 'mlogloss',\n",
    "    'verbose': False\n",
    "}\n",
    "xgb_para = dict()\n",
    "xgb_para['reg_params'] = xgb_reg_params\n",
    "xgb_para['fit_params'] = xgb_fit_params\n",
    "xgb_para['loss_func' ] = lambda y, pred: 1 - accuracy_score(y, pred)\n",
    "\n",
    "class HPOpt(object):\n",
    "    def __init__(self, x_train, x_test, y_train, y_test):\n",
    "        self.x_train = x_train\n",
    "        self.x_test  = x_test\n",
    "        self.y_train = y_train\n",
    "        self.y_test  = y_test\n",
    "        self.result = 0\n",
    "\n",
    "    def process(self, fn_name, space, trials, algo, max_evals):\n",
    "        fn = getattr(self, fn_name)\n",
    "        try:\n",
    "            self.result = fmin(fn=fn, space=space, algo=algo, max_evals=max_evals, trials=trials)\n",
    "        except Exception as e:\n",
    "            return {'status': STATUS_FAIL,\n",
    "                    'exception': str(e)}\n",
    "        return self.result, trials\n",
    "\n",
    "    def xgb_reg(self, para):\n",
    "        reg = XGB(**para['reg_params'])\n",
    "        return self.train_reg(reg, para)\n",
    "\n",
    "    def train_reg(self, reg, para):\n",
    "        eval_set = [(self.x_train, self.y_train), (self.x_test, self.y_test)]\n",
    "        reg.fit(self.x_train, self.y_train, eval_set=eval_set, **para['fit_params'])\n",
    "        pred = reg.predict(self.x_test)\n",
    "        loss = para['loss_func'](self.y_test, pred)\n",
    "        return {'loss': loss, 'status': STATUS_OK}\n",
    "    \n",
    "    def return_result(self):\n",
    "        return self.result\n",
    "\n",
    "import warnings\n",
    "warnings.filterwarnings(action='ignore', category=UserWarning)\n",
    "obj = HPOpt(x_train, x_test, y_train, y_test)\n",
    "xgb_opt = obj.process(fn_name='xgb_reg', space=xgb_para, trials=Trials(), algo=tpe.suggest, max_evals=1000)\n",
    "print(obj.return_result())"
   ]
  },
  {
   "cell_type": "markdown",
   "metadata": {},
   "source": [
    "Неплохая библиотека, позволяющая выполнить случайный поиск для гиперпараметров с ожидаемым временем завершения.  \n",
    "Значение Accuracy после подбора получилось значительно выше, чем поиск по сетке с помощью GridSearch, благодаря более гибкой настройке параметров подбора.  \n",
    "Время поиска: 06:17\n",
    "- 'learning_rate': 0.8046208103484133\n",
    "- 'max_depth': 7"
   ]
  },
  {
   "cell_type": "markdown",
   "metadata": {},
   "source": [
    "9.Выведите качество по метрике accuracy стэкинга (StackingClassifier) 4-х алгоритмов с базовыми параметрами градиентного бустинга."
   ]
  },
  {
   "cell_type": "code",
   "execution_count": 18,
   "metadata": {},
   "outputs": [
    {
     "name": "stdout",
     "output_type": "stream",
     "text": [
      "Stacking accuracy: 0.6833333333333333\n"
     ]
    }
   ],
   "source": [
    "from sklearn.ensemble import StackingClassifier\n",
    "estimators = [\n",
    "    ('GBC', GBC(random_state=RS)),\n",
    "    ('XGB', XGB(random_state=RS)),\n",
    "    ('LGBM', LGBMClassifier(random_state=RS)),\n",
    "    ('CatBoost', CatBoostClassifier(random_state=RS))\n",
    "]\n",
    "stacking = StackingClassifier(estimators=estimators, cv=3, n_jobs=-1)\n",
    "stacking.fit(x_train, y_train)\n",
    "y_pred = stacking.predict(x_test)\n",
    "print(\"Stacking accuracy:\", accuracy_score(y_test, y_pred))"
   ]
  },
  {
   "cell_type": "markdown",
   "metadata": {},
   "source": [
    "10.Выведите качество по метрике accuracy стэкинга 4-х алгоритмов с оптимальными параметрами градиентного бустинга. Сравните результаты с предыдущим шагом и напишите какой вывод можно из этого сделать."
   ]
  },
  {
   "cell_type": "code",
   "execution_count": 19,
   "metadata": {},
   "outputs": [
    {
     "name": "stdout",
     "output_type": "stream",
     "text": [
      "Stacking tuned accuracy: 0.66875\n"
     ]
    }
   ],
   "source": [
    "estimators_tuned = [\n",
    "    ('GBC', GBC(\n",
    "        criterion='squared_error',\n",
    "        learning_rate=0.2,\n",
    "        max_depth=7,\n",
    "        n_estimators=6,\n",
    "        random_state=RS)\n",
    "    ),\n",
    "    ('XGB', XGB(\n",
    "        learning_rate=0.25,\n",
    "        colsample_bytree=0.3456,\n",
    "        eval_metric='mlogloss',\n",
    "        max_depth=9,\n",
    "        min_child_weight=1,\n",
    "        n_estimators=29,\n",
    "        random_state=RS,\n",
    "        subsample=0.861,\n",
    "        tree_method='hist')\n",
    "    ),\n",
    "    ('LGBM', LGBMClassifier(\n",
    "        learning_rate=0.2,\n",
    "        max_depth=7,\n",
    "        n_estimators=100,\n",
    "        random_state=RS)\n",
    "    ),\n",
    "    ('CatBoost', CatBoostClassifier(\n",
    "        learning_rate=0.05,\n",
    "        max_depth=8,\n",
    "        n_estimators=200,\n",
    "        random_state=RS)\n",
    "    )\n",
    "]\n",
    "stacking_tuned = StackingClassifier(estimators=estimators_tuned, cv=3, n_jobs=-1)\n",
    "stacking_tuned.fit(x_train, y_train)\n",
    "y_pred_tuned = stacking_tuned.predict(x_test)\n",
    "print(\"Stacking tuned accuracy:\", accuracy_score(y_test, y_pred_tuned))"
   ]
  },
  {
   "cell_type": "markdown",
   "metadata": {},
   "source": [
    "Accuracy стэкинга нескольких алгоритмов с настроенными параметрами хуже чем без дополнительной настройки, что позволяет пропустить этап настройки и вместо него использовать стэккинг."
   ]
  }
 ],
 "metadata": {
  "kernelspec": {
   "display_name": "Python 3 (ipykernel)",
   "language": "python",
   "name": "python3"
  },
  "language_info": {
   "codemirror_mode": {
    "name": "ipython",
    "version": 3
   },
   "file_extension": ".py",
   "mimetype": "text/x-python",
   "name": "python",
   "nbconvert_exporter": "python",
   "pygments_lexer": "ipython3",
   "version": "3.8.11"
  },
  "toc": {
   "base_numbering": 1,
   "nav_menu": {},
   "number_sections": true,
   "sideBar": true,
   "skip_h1_title": false,
   "title_cell": "Содержание",
   "title_sidebar": "Contents",
   "toc_cell": true,
   "toc_position": {},
   "toc_section_display": true,
   "toc_window_display": false
  }
 },
 "nbformat": 4,
 "nbformat_minor": 2
}
