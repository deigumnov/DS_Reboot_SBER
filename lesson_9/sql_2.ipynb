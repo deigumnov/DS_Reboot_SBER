{
 "cells": [
  {
   "cell_type": "markdown",
   "metadata": {
    "toc": true
   },
   "source": [
    "<h1>Решение задач по второй части курса SQL<span class=\"tocSkip\"></span></h1>\n",
    "<div class=\"toc\"><ul class=\"toc-item\"></ul></div>"
   ]
  },
  {
   "cell_type": "code",
   "execution_count": 1,
   "metadata": {},
   "outputs": [],
   "source": [
    "import sqlite3\n",
    "import pandas as pd"
   ]
  },
  {
   "cell_type": "code",
   "execution_count": 2,
   "metadata": {},
   "outputs": [],
   "source": [
    "con = sqlite3.connect(\":memory:\")\n",
    "cur = con.cursor()"
   ]
  },
  {
   "cell_type": "markdown",
   "metadata": {},
   "source": [
    "https://www.cs.toronto.edu/~delve/data/boston/bostonDetail.html"
   ]
  },
  {
   "cell_type": "code",
   "execution_count": 3,
   "metadata": {},
   "outputs": [],
   "source": [
    "link = 'https://raw.githubusercontent.com/eric-bunch/boston_housing/master/boston.csv'"
   ]
  },
  {
   "cell_type": "code",
   "execution_count": 4,
   "metadata": {
    "scrolled": true
   },
   "outputs": [],
   "source": [
    "data = pd.read_csv(link)\n",
    "data.style.hide_index()\n",
    "data.rename(columns = {'MDEV':'MEDV'}, inplace=True)"
   ]
  },
  {
   "cell_type": "code",
   "execution_count": 5,
   "metadata": {},
   "outputs": [],
   "source": [
    "data.to_sql(\"boston\", con, index=False, if_exists=\"replace\")"
   ]
  },
  {
   "cell_type": "code",
   "execution_count": 6,
   "metadata": {
    "scrolled": false
   },
   "outputs": [
    {
     "data": {
      "text/html": [
       "<div>\n",
       "<style scoped>\n",
       "    .dataframe tbody tr th:only-of-type {\n",
       "        vertical-align: middle;\n",
       "    }\n",
       "\n",
       "    .dataframe tbody tr th {\n",
       "        vertical-align: top;\n",
       "    }\n",
       "\n",
       "    .dataframe thead th {\n",
       "        text-align: right;\n",
       "    }\n",
       "</style>\n",
       "<table border=\"1\" class=\"dataframe\">\n",
       "  <thead>\n",
       "    <tr style=\"text-align: right;\">\n",
       "      <th></th>\n",
       "      <th>CRIM</th>\n",
       "      <th>ZN</th>\n",
       "      <th>INDUS</th>\n",
       "      <th>CHAS</th>\n",
       "      <th>NOX</th>\n",
       "      <th>RM</th>\n",
       "      <th>AGE</th>\n",
       "      <th>DIS</th>\n",
       "      <th>RAD</th>\n",
       "      <th>TAX</th>\n",
       "      <th>PTRATIO</th>\n",
       "      <th>B</th>\n",
       "      <th>LSTAT</th>\n",
       "      <th>MEDV</th>\n",
       "    </tr>\n",
       "  </thead>\n",
       "  <tbody>\n",
       "    <tr>\n",
       "      <th>0</th>\n",
       "      <td>0.00632</td>\n",
       "      <td>18.0</td>\n",
       "      <td>2.31</td>\n",
       "      <td>0.0</td>\n",
       "      <td>0.538</td>\n",
       "      <td>6.575</td>\n",
       "      <td>65.2</td>\n",
       "      <td>4.0900</td>\n",
       "      <td>1.0</td>\n",
       "      <td>296.0</td>\n",
       "      <td>15.3</td>\n",
       "      <td>396.90</td>\n",
       "      <td>4.98</td>\n",
       "      <td>24.0</td>\n",
       "    </tr>\n",
       "    <tr>\n",
       "      <th>1</th>\n",
       "      <td>0.02731</td>\n",
       "      <td>0.0</td>\n",
       "      <td>7.07</td>\n",
       "      <td>0.0</td>\n",
       "      <td>0.469</td>\n",
       "      <td>6.421</td>\n",
       "      <td>78.9</td>\n",
       "      <td>4.9671</td>\n",
       "      <td>2.0</td>\n",
       "      <td>242.0</td>\n",
       "      <td>17.8</td>\n",
       "      <td>396.90</td>\n",
       "      <td>9.14</td>\n",
       "      <td>21.6</td>\n",
       "    </tr>\n",
       "    <tr>\n",
       "      <th>2</th>\n",
       "      <td>0.02729</td>\n",
       "      <td>0.0</td>\n",
       "      <td>7.07</td>\n",
       "      <td>0.0</td>\n",
       "      <td>0.469</td>\n",
       "      <td>7.185</td>\n",
       "      <td>61.1</td>\n",
       "      <td>4.9671</td>\n",
       "      <td>2.0</td>\n",
       "      <td>242.0</td>\n",
       "      <td>17.8</td>\n",
       "      <td>392.83</td>\n",
       "      <td>4.03</td>\n",
       "      <td>34.7</td>\n",
       "    </tr>\n",
       "    <tr>\n",
       "      <th>3</th>\n",
       "      <td>0.03237</td>\n",
       "      <td>0.0</td>\n",
       "      <td>2.18</td>\n",
       "      <td>0.0</td>\n",
       "      <td>0.458</td>\n",
       "      <td>6.998</td>\n",
       "      <td>45.8</td>\n",
       "      <td>6.0622</td>\n",
       "      <td>3.0</td>\n",
       "      <td>222.0</td>\n",
       "      <td>18.7</td>\n",
       "      <td>394.63</td>\n",
       "      <td>2.94</td>\n",
       "      <td>33.4</td>\n",
       "    </tr>\n",
       "    <tr>\n",
       "      <th>4</th>\n",
       "      <td>0.06905</td>\n",
       "      <td>0.0</td>\n",
       "      <td>2.18</td>\n",
       "      <td>0.0</td>\n",
       "      <td>0.458</td>\n",
       "      <td>7.147</td>\n",
       "      <td>54.2</td>\n",
       "      <td>6.0622</td>\n",
       "      <td>3.0</td>\n",
       "      <td>222.0</td>\n",
       "      <td>18.7</td>\n",
       "      <td>396.90</td>\n",
       "      <td>5.33</td>\n",
       "      <td>36.2</td>\n",
       "    </tr>\n",
       "  </tbody>\n",
       "</table>\n",
       "</div>"
      ],
      "text/plain": [
       "      CRIM    ZN  INDUS  CHAS    NOX     RM   AGE     DIS  RAD    TAX  \\\n",
       "0  0.00632  18.0   2.31   0.0  0.538  6.575  65.2  4.0900  1.0  296.0   \n",
       "1  0.02731   0.0   7.07   0.0  0.469  6.421  78.9  4.9671  2.0  242.0   \n",
       "2  0.02729   0.0   7.07   0.0  0.469  7.185  61.1  4.9671  2.0  242.0   \n",
       "3  0.03237   0.0   2.18   0.0  0.458  6.998  45.8  6.0622  3.0  222.0   \n",
       "4  0.06905   0.0   2.18   0.0  0.458  7.147  54.2  6.0622  3.0  222.0   \n",
       "\n",
       "   PTRATIO       B  LSTAT  MEDV  \n",
       "0     15.3  396.90   4.98  24.0  \n",
       "1     17.8  396.90   9.14  21.6  \n",
       "2     17.8  392.83   4.03  34.7  \n",
       "3     18.7  394.63   2.94  33.4  \n",
       "4     18.7  396.90   5.33  36.2  "
      ]
     },
     "execution_count": 6,
     "metadata": {},
     "output_type": "execute_result"
    }
   ],
   "source": [
    "pd.read_sql(\n",
    "    \"\"\"\n",
    "    SELECT * FROM boston\n",
    "    limit 5\n",
    "    \"\"\",\n",
    "    con\n",
    ")"
   ]
  },
  {
   "cell_type": "markdown",
   "metadata": {},
   "source": [
    "Задание 1. Выведите количество пустых значений по каждой из колонок (название колонки, кол-во пустых значений)"
   ]
  },
  {
   "cell_type": "code",
   "execution_count": 7,
   "metadata": {
    "scrolled": false
   },
   "outputs": [
    {
     "data": {
      "text/html": [
       "<div>\n",
       "<style scoped>\n",
       "    .dataframe tbody tr th:only-of-type {\n",
       "        vertical-align: middle;\n",
       "    }\n",
       "\n",
       "    .dataframe tbody tr th {\n",
       "        vertical-align: top;\n",
       "    }\n",
       "\n",
       "    .dataframe thead th {\n",
       "        text-align: right;\n",
       "    }\n",
       "</style>\n",
       "<table border=\"1\" class=\"dataframe\">\n",
       "  <thead>\n",
       "    <tr style=\"text-align: right;\">\n",
       "      <th></th>\n",
       "      <th>CRIM</th>\n",
       "      <th>ZN</th>\n",
       "      <th>INDUS</th>\n",
       "      <th>CHAS</th>\n",
       "      <th>NOX</th>\n",
       "      <th>RM</th>\n",
       "      <th>AGE</th>\n",
       "      <th>DIS</th>\n",
       "      <th>RAD</th>\n",
       "      <th>TAX</th>\n",
       "      <th>PTRATIO</th>\n",
       "      <th>B</th>\n",
       "      <th>LSTAT</th>\n",
       "      <th>MEDV</th>\n",
       "    </tr>\n",
       "  </thead>\n",
       "  <tbody>\n",
       "    <tr>\n",
       "      <th>0</th>\n",
       "      <td>0</td>\n",
       "      <td>0</td>\n",
       "      <td>0</td>\n",
       "      <td>0</td>\n",
       "      <td>0</td>\n",
       "      <td>0</td>\n",
       "      <td>0</td>\n",
       "      <td>0</td>\n",
       "      <td>0</td>\n",
       "      <td>0</td>\n",
       "      <td>0</td>\n",
       "      <td>0</td>\n",
       "      <td>0</td>\n",
       "      <td>0</td>\n",
       "    </tr>\n",
       "  </tbody>\n",
       "</table>\n",
       "</div>"
      ],
      "text/plain": [
       "   CRIM  ZN  INDUS  CHAS  NOX  RM  AGE  DIS  RAD  TAX  PTRATIO  B  LSTAT  MEDV\n",
       "0     0   0      0     0    0   0    0    0    0    0        0  0      0     0"
      ]
     },
     "execution_count": 7,
     "metadata": {},
     "output_type": "execute_result"
    }
   ],
   "source": [
    "query = \"SELECT \"\n",
    "query += ','.join(f\"count(case when {column} is null then 1 end) as {column}\" for column in data.columns)\n",
    "query += \" FROM boston\"\n",
    "pd.read_sql(query, con)"
   ]
  },
  {
   "cell_type": "markdown",
   "metadata": {},
   "source": [
    "Задание 2. Выведите количество уникальных значений по каждой из колонок (название колонки, кол-во уникальных значений)"
   ]
  },
  {
   "cell_type": "code",
   "execution_count": 8,
   "metadata": {},
   "outputs": [
    {
     "data": {
      "text/html": [
       "<div>\n",
       "<style scoped>\n",
       "    .dataframe tbody tr th:only-of-type {\n",
       "        vertical-align: middle;\n",
       "    }\n",
       "\n",
       "    .dataframe tbody tr th {\n",
       "        vertical-align: top;\n",
       "    }\n",
       "\n",
       "    .dataframe thead th {\n",
       "        text-align: right;\n",
       "    }\n",
       "</style>\n",
       "<table border=\"1\" class=\"dataframe\">\n",
       "  <thead>\n",
       "    <tr style=\"text-align: right;\">\n",
       "      <th></th>\n",
       "      <th>CRIM</th>\n",
       "      <th>ZN</th>\n",
       "      <th>INDUS</th>\n",
       "      <th>CHAS</th>\n",
       "      <th>NOX</th>\n",
       "      <th>RM</th>\n",
       "      <th>AGE</th>\n",
       "      <th>DIS</th>\n",
       "      <th>RAD</th>\n",
       "      <th>TAX</th>\n",
       "      <th>PTRATIO</th>\n",
       "      <th>B</th>\n",
       "      <th>LSTAT</th>\n",
       "      <th>MEDV</th>\n",
       "    </tr>\n",
       "  </thead>\n",
       "  <tbody>\n",
       "    <tr>\n",
       "      <th>0</th>\n",
       "      <td>504</td>\n",
       "      <td>26</td>\n",
       "      <td>76</td>\n",
       "      <td>2</td>\n",
       "      <td>81</td>\n",
       "      <td>446</td>\n",
       "      <td>356</td>\n",
       "      <td>412</td>\n",
       "      <td>9</td>\n",
       "      <td>66</td>\n",
       "      <td>46</td>\n",
       "      <td>357</td>\n",
       "      <td>455</td>\n",
       "      <td>229</td>\n",
       "    </tr>\n",
       "  </tbody>\n",
       "</table>\n",
       "</div>"
      ],
      "text/plain": [
       "   CRIM  ZN  INDUS  CHAS  NOX   RM  AGE  DIS  RAD  TAX  PTRATIO    B  LSTAT  \\\n",
       "0   504  26     76     2   81  446  356  412    9   66       46  357    455   \n",
       "\n",
       "   MEDV  \n",
       "0   229  "
      ]
     },
     "execution_count": 8,
     "metadata": {},
     "output_type": "execute_result"
    }
   ],
   "source": [
    "query = \"SELECT \"\n",
    "query += ','.join(f\"COUNT(DISTINCT {column}) AS {column}\" for column in data.columns)\n",
    "query += \" FROM boston\"\n",
    "pd.read_sql(query, con)"
   ]
  },
  {
   "cell_type": "markdown",
   "metadata": {},
   "source": [
    "Задание 3. Выведите колонки, у которых медиана равна минимальному значению (название колонки).\n",
    "Напишите какой вывод можно сделать по данным в этих колонках"
   ]
  },
  {
   "cell_type": "code",
   "execution_count": 9,
   "metadata": {
    "scrolled": false
   },
   "outputs": [
    {
     "name": "stdout",
     "output_type": "stream",
     "text": [
      "У колонки ZN медиана и минимальное значение равны 0.0\n",
      "У колонки CHAS медиана и минимальное значение равны 0.0\n"
     ]
    }
   ],
   "source": [
    "for column in data.columns:\n",
    "    query = f\"\"\"\n",
    "    WITH COLUMN_RANGE AS (\n",
    "        SELECT\n",
    "            {column},\n",
    "            ROW_NUMBER() OVER (ORDER BY {column}) rn,\n",
    "            MIN({column}) OVER () MIN_{column},\n",
    "            COUNT({column}) OVER () cnt\n",
    "        FROM boston\n",
    "    )\n",
    "    SELECT {column}, MIN_{column} FROM COLUMN_RANGE\n",
    "    WHERE rn = cnt/2\n",
    "    \"\"\"\n",
    "    result = pd.read_sql(query, con)\n",
    "    if result.at[0, column] == result.at[0, 'MIN_' + column]:\n",
    "        print(f\"У колонки {column} медиана и минимальное значение равны {result.at[0, column]}\")"
   ]
  },
  {
   "cell_type": "markdown",
   "metadata": {},
   "source": [
    "- Поскольку минимальное значение и медиана совпадают, значит более половины значений колонки заполнены этим значением"
   ]
  },
  {
   "cell_type": "markdown",
   "metadata": {},
   "source": [
    "Задание 4. Выведите разницу между среднем количеством комнат(RM) в домах с самой дорогой стоимостью(MEDV) и 25 самыми дешевыми домами. Аналогично по 50, 100, 200, 300 самыми дешевыми домами. (кол-во домов(25,50,100,200,300), среднее кол-во комнат в них, среднее кол-во комнат в самых дорогих, разница).\n",
    "Напишите влияет ли кол-во комнат на стоимость и как сильно."
   ]
  },
  {
   "cell_type": "code",
   "execution_count": 10,
   "metadata": {},
   "outputs": [
    {
     "name": "stdout",
     "output_type": "stream",
     "text": [
      "Разница между средним количеством квартир:\n",
      "Для 25 самых дорогих и 25 самых дешевых домов: 1.89\n",
      "Для 50 самых дорогих и 50 самых дешевых домов: 1.73\n",
      "Для 100 самых дорогих и 100 самых дешевых домов: 1.31\n",
      "Для 200 самых дорогих и 200 самых дешевых домов: 0.85\n",
      "Для 300 самых дорогих и 300 самых дешевых домов: 0.57\n"
     ]
    }
   ],
   "source": [
    "print(\"Разница между средним количеством квартир:\")\n",
    "top_n_group = [25, 50, 100, 200, 300]\n",
    "for i in top_n_group:\n",
    "    query = f\"\"\"\n",
    "    SELECT ROUND(RICH - CHEAP, 2) DELTA_RM FROM (\n",
    "        SELECT \n",
    "            AVG(RM) RICH\n",
    "        FROM (\n",
    "            SELECT\n",
    "                RM\n",
    "            FROM boston\n",
    "            ORDER BY MEDV DESC\n",
    "            limit {i}\n",
    "        )\n",
    "    ), (\n",
    "        SELECT \n",
    "            AVG(RM) CHEAP\n",
    "        FROM (\n",
    "            SELECT\n",
    "                RM\n",
    "            FROM boston\n",
    "            ORDER BY MEDV ASC\n",
    "            limit {i}\n",
    "        )\n",
    "    )\n",
    "    \"\"\"\n",
    "    result = pd.read_sql(query, con)\n",
    "    print(f\"Для {i} самых дорогих и {i} самых дешевых домов: {result.at[0, 'DELTA_RM']}\")"
   ]
  },
  {
   "cell_type": "markdown",
   "metadata": {},
   "source": [
    "- количество квартир в среднем между дорогими и дешевыми домами есть, но небольшая - составляет 1-2 квартиры"
   ]
  },
  {
   "cell_type": "markdown",
   "metadata": {},
   "source": [
    "Задание 5. Выведите ранги значений колонки LSTAT(процент населения с более низким статусом) в домах с самой дорогой стоимостью (значение LSTAT, стоимость, ранг). Напишите какой вывод можно сделать по этим данным."
   ]
  },
  {
   "cell_type": "code",
   "execution_count": 11,
   "metadata": {},
   "outputs": [
    {
     "name": "stdout",
     "output_type": "stream",
     "text": [
      "     LSTAT  MEDV  LSTAT_rank\n",
      "0     9.53  50.0         280\n",
      "1     8.88  50.0         301\n",
      "2     7.44  50.0         334\n",
      "3     5.12  50.0         397\n",
      "4     4.63  50.0         414\n",
      "..     ...   ...         ...\n",
      "501  23.97   7.0          41\n",
      "502  29.97   6.3          12\n",
      "503  26.77   5.6          26\n",
      "504  30.59   5.0          11\n",
      "505  22.98   5.0          50\n",
      "\n",
      "[506 rows x 3 columns]\n"
     ]
    }
   ],
   "source": [
    "query = f\"\"\"\n",
    "SELECT\n",
    "    LSTAT,\n",
    "    MEDV,\n",
    "    dense_rank() OVER (ORDER BY LSTAT DESC) as LSTAT_rank\n",
    "FROM boston\n",
    "ORDER BY MEDV DESC\n",
    "\"\"\"\n",
    "result = pd.read_sql(query, con)\n",
    "print(result)"
   ]
  },
  {
   "cell_type": "markdown",
   "metadata": {},
   "source": [
    "- в местах, где продаются дома с более высокой стоимостью, больше процент населения с высоким и средним статусом"
   ]
  },
  {
   "cell_type": "markdown",
   "metadata": {},
   "source": [
    "Задание 6. Выведите среднюю стоимость домов граничащих с рекой(CHAS) и нет (граничит/не граничит, стоимость)"
   ]
  },
  {
   "cell_type": "code",
   "execution_count": 12,
   "metadata": {},
   "outputs": [
    {
     "data": {
      "text/html": [
       "<div>\n",
       "<style scoped>\n",
       "    .dataframe tbody tr th:only-of-type {\n",
       "        vertical-align: middle;\n",
       "    }\n",
       "\n",
       "    .dataframe tbody tr th {\n",
       "        vertical-align: top;\n",
       "    }\n",
       "\n",
       "    .dataframe thead th {\n",
       "        text-align: right;\n",
       "    }\n",
       "</style>\n",
       "<table border=\"1\" class=\"dataframe\">\n",
       "  <thead>\n",
       "    <tr style=\"text-align: right;\">\n",
       "      <th></th>\n",
       "      <th>CHAS</th>\n",
       "      <th>AVG_PRICE</th>\n",
       "    </tr>\n",
       "  </thead>\n",
       "  <tbody>\n",
       "    <tr>\n",
       "      <th>0</th>\n",
       "      <td>0.0</td>\n",
       "      <td>22.094</td>\n",
       "    </tr>\n",
       "    <tr>\n",
       "      <th>1</th>\n",
       "      <td>1.0</td>\n",
       "      <td>28.440</td>\n",
       "    </tr>\n",
       "  </tbody>\n",
       "</table>\n",
       "</div>"
      ],
      "text/plain": [
       "   CHAS  AVG_PRICE\n",
       "0   0.0     22.094\n",
       "1   1.0     28.440"
      ]
     },
     "execution_count": 12,
     "metadata": {},
     "output_type": "execute_result"
    }
   ],
   "source": [
    "pd.read_sql(\n",
    "    \"\"\"\n",
    "    SELECT\n",
    "        CHAS,\n",
    "        AVG_PRICE\n",
    "    FROM (\n",
    "        SELECT\n",
    "            CHAS,\n",
    "            ROUND(AVG(MEDV) OVER(PARTITION BY CHAS), 3) as AVG_PRICE\n",
    "        FROM boston\n",
    "    )\n",
    "    GROUP BY CHAS, AVG_PRICE\n",
    "    ORDER BY CHAS ASC\n",
    "    \"\"\",\n",
    "    con\n",
    ")"
   ]
  },
  {
   "cell_type": "markdown",
   "metadata": {},
   "source": [
    "Задание 7. Выведите все колонки, у которых среднее значение выше, когда дом граничит с рекой (название колонки). Напишите какой вывод можно сделать по этим данным."
   ]
  },
  {
   "cell_type": "code",
   "execution_count": 13,
   "metadata": {},
   "outputs": [
    {
     "name": "stdout",
     "output_type": "stream",
     "text": [
      "У колонки INDUS среднее значение выше, если дом граничит с рекой (12.72 > 11.02)\n",
      "У колонки NOX среднее значение выше, если дом граничит с рекой (0.59 > 0.55)\n",
      "У колонки RM среднее значение выше, если дом граничит с рекой (6.52 > 6.27)\n",
      "У колонки AGE среднее значение выше, если дом граничит с рекой (77.5 > 67.91)\n",
      "У колонки B среднее значение выше, если дом граничит с рекой (373.0 > 355.46)\n",
      "У колонки MEDV среднее значение выше, если дом граничит с рекой (28.44 > 22.09)\n"
     ]
    }
   ],
   "source": [
    "for column in data.columns:\n",
    "    if column == 'CHAS':\n",
    "        continue\n",
    "    query = f\"\"\"\n",
    "    SELECT\n",
    "        CHAS,\n",
    "        AVG_{column}\n",
    "    FROM (\n",
    "        SELECT\n",
    "            CHAS,\n",
    "            ROUND(AVG({column}) OVER(PARTITION BY CHAS), 2) as AVG_{column}\n",
    "        FROM boston\n",
    "    )\n",
    "    GROUP BY CHAS, AVG_{column}\n",
    "    ORDER BY CHAS ASC\n",
    "    \"\"\"\n",
    "    result = pd.read_sql(query, con)\n",
    "    if result.at[1, 'AVG_' + column] > result.at[0, 'AVG_' + column]:\n",
    "        print(f\"У колонки {column} среднее значение выше, если дом граничит с рекой \"\n",
    "              f\"({result.at[1, 'AVG_' + column]} > {result.at[0, 'AVG_' + column]})\")"
   ]
  },
  {
   "cell_type": "markdown",
   "metadata": {},
   "source": [
    "- для колонки INDUS означает, что часть промышленных предприятий лучше строить возле реки\n",
    "- для колонки NOX видимо есть взаимосвязь с количеством промышленных предприятий\n",
    "- для колонки RM различие незначительное\n",
    "- для колонки AGE - дома начинали строиться сначала возле реки\n",
    "- для колонки B - логическая взаимосвязь непонятна\n",
    "- для колонки MEDV - вид на реку положительно влияет на цену дома"
   ]
  },
  {
   "cell_type": "markdown",
   "metadata": {},
   "source": [
    "Задание 8. Выведите значения долей промышленной застройки(INDUS), концентрации оксидов азота(NOX) и по их перцентилям - 10, 20 ... 100 ( перцентиль(10, 20...100),значение INDUS, значение NOX). Напишите прослеживается ли между ними взаимосвязь"
   ]
  },
  {
   "cell_type": "code",
   "execution_count": 14,
   "metadata": {},
   "outputs": [
    {
     "data": {
      "text/html": [
       "<div>\n",
       "<style scoped>\n",
       "    .dataframe tbody tr th:only-of-type {\n",
       "        vertical-align: middle;\n",
       "    }\n",
       "\n",
       "    .dataframe tbody tr th {\n",
       "        vertical-align: top;\n",
       "    }\n",
       "\n",
       "    .dataframe thead th {\n",
       "        text-align: right;\n",
       "    }\n",
       "</style>\n",
       "<table border=\"1\" class=\"dataframe\">\n",
       "  <thead>\n",
       "    <tr style=\"text-align: right;\">\n",
       "      <th></th>\n",
       "      <th>PERC_DIFF</th>\n",
       "      <th>DIFF_CNT</th>\n",
       "    </tr>\n",
       "  </thead>\n",
       "  <tbody>\n",
       "    <tr>\n",
       "      <th>0</th>\n",
       "      <td>0</td>\n",
       "      <td>165</td>\n",
       "    </tr>\n",
       "    <tr>\n",
       "      <th>1</th>\n",
       "      <td>1</td>\n",
       "      <td>188</td>\n",
       "    </tr>\n",
       "    <tr>\n",
       "      <th>2</th>\n",
       "      <td>2</td>\n",
       "      <td>86</td>\n",
       "    </tr>\n",
       "    <tr>\n",
       "      <th>3</th>\n",
       "      <td>3</td>\n",
       "      <td>35</td>\n",
       "    </tr>\n",
       "    <tr>\n",
       "      <th>4</th>\n",
       "      <td>4</td>\n",
       "      <td>13</td>\n",
       "    </tr>\n",
       "    <tr>\n",
       "      <th>5</th>\n",
       "      <td>5</td>\n",
       "      <td>9</td>\n",
       "    </tr>\n",
       "    <tr>\n",
       "      <th>6</th>\n",
       "      <td>6</td>\n",
       "      <td>10</td>\n",
       "    </tr>\n",
       "  </tbody>\n",
       "</table>\n",
       "</div>"
      ],
      "text/plain": [
       "   PERC_DIFF  DIFF_CNT\n",
       "0          0       165\n",
       "1          1       188\n",
       "2          2        86\n",
       "3          3        35\n",
       "4          4        13\n",
       "5          5         9\n",
       "6          6        10"
      ]
     },
     "execution_count": 14,
     "metadata": {},
     "output_type": "execute_result"
    }
   ],
   "source": [
    "pd.read_sql(\n",
    "    \"\"\"\n",
    "    SELECT PERC_DIFF, DIFF_CNT\n",
    "    FROM (\n",
    "        SELECT\n",
    "            PERC_DIFF,\n",
    "            LAST_VALUE(COUNT_DIFF) OVER(PARTITION BY PERC_DIFF ORDER BY PERC_DIFF\n",
    "                ROWS BETWEEN UNBOUNDED PRECEDING AND UNBOUNDED FOLLOWING) DIFF_CNT\n",
    "        FROM (\n",
    "            SELECT PERC_DIFF, row_number() OVER (PARTITION BY PERC_DIFF ORDER BY PERC_DIFF) COUNT_DIFF\n",
    "            FROM (\n",
    "                SELECT INDUS, NOX, ABS(PERC_INDUS - PERC_NOX) as PERC_DIFF\n",
    "                FROM (\n",
    "                    SELECT\n",
    "                        INDUS, NOX, NTILE(10) OVER(ORDER BY INDUS ASC) PERC_INDUS,\n",
    "                        NTILE(10) OVER(ORDER BY NOX ASC) PERC_NOX\n",
    "                    FROM boston\n",
    "                    ORDER BY NOX\n",
    "                )\n",
    "                ORDER BY PERC_DIFF DESC\n",
    "            )\n",
    "        )\n",
    "    )\n",
    "    GROUP BY PERC_DIFF, DIFF_CNT\n",
    "    \"\"\",\n",
    "    con\n",
    ")"
   ]
  },
  {
   "cell_type": "markdown",
   "metadata": {},
   "source": [
    "абсолютная разница между перцентилями для значений INDUS и NOX в целом небольшая, что говорит о сильной положительной корреляции:\n",
    "- для 165 значений перцентили совпадают\n",
    "- для 188 значений перцентили отличаются на 1\n",
    "- для 86 значений перцентили отличаются на 2\n",
    "- для 67 значений перцентили отличаются на 3 и более"
   ]
  },
  {
   "cell_type": "raw",
   "metadata": {},
   "source": [
    "CRIM - уровень преступности на душу населения\n",
    "ZN - доля земель под жилую застройку зонирована под участки площадью более 25 000 кв. футов.\n",
    "INDUS - доля акров неторгового бизнеса на город.\n",
    "CHAS - 1, если граничит с рекой, 0 иначе\n",
    "NOX - концентрация оксидов азота (частей на 10 миллионов)\n",
    "RM - среднее количество комнат в квартире\n",
    "AGE - доля жилых домов, построенных до 1940 г.\n",
    "DIS - взвешенные расстояния до пяти центров занятости Бостона\n",
    "RAD - индекс доступности к радиальным магистралям\n",
    "TAX - полная ставка налога на имущество за 10 000 долларов США\n",
    "PTRATIO - соотношение учеников и учителей по городам\n",
    "B - 1000(Bk - 0.63)^2, где Bk доля чернокожих людей по городам\n",
    "LSTAT - % более низкого статуса населения\n",
    "MEDV - Средняя стоимость домов в 1000 долларов."
   ]
  }
 ],
 "metadata": {
  "kernelspec": {
   "display_name": "Python 3 (ipykernel)",
   "language": "python",
   "name": "python3"
  },
  "language_info": {
   "codemirror_mode": {
    "name": "ipython",
    "version": 3
   },
   "file_extension": ".py",
   "mimetype": "text/x-python",
   "name": "python",
   "nbconvert_exporter": "python",
   "pygments_lexer": "ipython3",
   "version": "3.8.11"
  },
  "toc": {
   "base_numbering": 1,
   "nav_menu": {},
   "number_sections": true,
   "sideBar": true,
   "skip_h1_title": false,
   "title_cell": "Решение задач по второй части курса SQL",
   "title_sidebar": "Contents",
   "toc_cell": true,
   "toc_position": {},
   "toc_section_display": true,
   "toc_window_display": false
  }
 },
 "nbformat": 4,
 "nbformat_minor": 4
}
